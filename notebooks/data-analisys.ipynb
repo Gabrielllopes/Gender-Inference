{
 "cells": [
  {
   "cell_type": "markdown",
   "metadata": {},
   "source": [
    "Getting the project root path"
   ]
  },
  {
   "cell_type": "code",
   "execution_count": 1,
   "metadata": {},
   "outputs": [],
   "source": [
    "import os\n",
    "root = os.path.dirname(os.getcwd())"
   ]
  },
  {
   "cell_type": "markdown",
   "metadata": {},
   "source": [
    "Loading the data"
   ]
  },
  {
   "cell_type": "code",
   "execution_count": 2,
   "metadata": {},
   "outputs": [
    {
     "data": {
      "text/html": [
       "<div>\n",
       "<style scoped>\n",
       "    .dataframe tbody tr th:only-of-type {\n",
       "        vertical-align: middle;\n",
       "    }\n",
       "\n",
       "    .dataframe tbody tr th {\n",
       "        vertical-align: top;\n",
       "    }\n",
       "\n",
       "    .dataframe thead th {\n",
       "        text-align: right;\n",
       "    }\n",
       "</style>\n",
       "<table border=\"1\" class=\"dataframe\">\n",
       "  <thead>\n",
       "    <tr style=\"text-align: right;\">\n",
       "      <th></th>\n",
       "      <th>index</th>\n",
       "      <th>age</th>\n",
       "      <th>sex</th>\n",
       "      <th>cp</th>\n",
       "      <th>trestbps</th>\n",
       "      <th>chol</th>\n",
       "      <th>fbs</th>\n",
       "      <th>restecg</th>\n",
       "      <th>thalach</th>\n",
       "      <th>exang</th>\n",
       "      <th>oldpeak</th>\n",
       "      <th>slope</th>\n",
       "      <th>ca</th>\n",
       "      <th>thal</th>\n",
       "      <th>nar</th>\n",
       "      <th>hc</th>\n",
       "      <th>sk</th>\n",
       "      <th>trf</th>\n",
       "    </tr>\n",
       "  </thead>\n",
       "  <tbody>\n",
       "    <tr>\n",
       "      <td>0</td>\n",
       "      <td>0</td>\n",
       "      <td>49</td>\n",
       "      <td>M</td>\n",
       "      <td>10000</td>\n",
       "      <td>130</td>\n",
       "      <td>269.0</td>\n",
       "      <td>0</td>\n",
       "      <td>1</td>\n",
       "      <td>163</td>\n",
       "      <td>0</td>\n",
       "      <td>0.0</td>\n",
       "      <td>2.0</td>\n",
       "      <td>0</td>\n",
       "      <td>2</td>\n",
       "      <td>2</td>\n",
       "      <td>0</td>\n",
       "      <td>1</td>\n",
       "      <td>6797.761892</td>\n",
       "    </tr>\n",
       "    <tr>\n",
       "      <td>1</td>\n",
       "      <td>1</td>\n",
       "      <td>61</td>\n",
       "      <td>F</td>\n",
       "      <td>10000</td>\n",
       "      <td>138</td>\n",
       "      <td>166.0</td>\n",
       "      <td>0</td>\n",
       "      <td>0</td>\n",
       "      <td>125</td>\n",
       "      <td>1</td>\n",
       "      <td>3.6</td>\n",
       "      <td>NaN</td>\n",
       "      <td>1</td>\n",
       "      <td>2</td>\n",
       "      <td>2</td>\n",
       "      <td>1</td>\n",
       "      <td>3</td>\n",
       "      <td>4307.686943</td>\n",
       "    </tr>\n",
       "    <tr>\n",
       "      <td>2</td>\n",
       "      <td>2</td>\n",
       "      <td>46</td>\n",
       "      <td>F</td>\n",
       "      <td>10000</td>\n",
       "      <td>140</td>\n",
       "      <td>311.0</td>\n",
       "      <td>0</td>\n",
       "      <td>1</td>\n",
       "      <td>120</td>\n",
       "      <td>1</td>\n",
       "      <td>1.8</td>\n",
       "      <td>NaN</td>\n",
       "      <td>2</td>\n",
       "      <td>3</td>\n",
       "      <td>2</td>\n",
       "      <td>0</td>\n",
       "      <td>1</td>\n",
       "      <td>4118.077502</td>\n",
       "    </tr>\n",
       "    <tr>\n",
       "      <td>3</td>\n",
       "      <td>3</td>\n",
       "      <td>69</td>\n",
       "      <td>F</td>\n",
       "      <td>10000</td>\n",
       "      <td>140</td>\n",
       "      <td>254.0</td>\n",
       "      <td>0</td>\n",
       "      <td>0</td>\n",
       "      <td>146</td>\n",
       "      <td>0</td>\n",
       "      <td>2.0</td>\n",
       "      <td>1.0</td>\n",
       "      <td>3</td>\n",
       "      <td>3</td>\n",
       "      <td>2</td>\n",
       "      <td>1</td>\n",
       "      <td>0</td>\n",
       "      <td>7170.849469</td>\n",
       "    </tr>\n",
       "    <tr>\n",
       "      <td>4</td>\n",
       "      <td>4</td>\n",
       "      <td>51</td>\n",
       "      <td>F</td>\n",
       "      <td>10000</td>\n",
       "      <td>100</td>\n",
       "      <td>222.0</td>\n",
       "      <td>0</td>\n",
       "      <td>1</td>\n",
       "      <td>143</td>\n",
       "      <td>1</td>\n",
       "      <td>1.2</td>\n",
       "      <td>1.0</td>\n",
       "      <td>0</td>\n",
       "      <td>2</td>\n",
       "      <td>2</td>\n",
       "      <td>1</td>\n",
       "      <td>0</td>\n",
       "      <td>5579.040145</td>\n",
       "    </tr>\n",
       "  </tbody>\n",
       "</table>\n",
       "</div>"
      ],
      "text/plain": [
       "   index  age sex     cp  trestbps   chol  fbs  restecg  thalach  exang  \\\n",
       "0      0   49   M  10000       130  269.0    0        1      163      0   \n",
       "1      1   61   F  10000       138  166.0    0        0      125      1   \n",
       "2      2   46   F  10000       140  311.0    0        1      120      1   \n",
       "3      3   69   F  10000       140  254.0    0        0      146      0   \n",
       "4      4   51   F  10000       100  222.0    0        1      143      1   \n",
       "\n",
       "   oldpeak  slope  ca  thal  nar  hc  sk          trf  \n",
       "0      0.0    2.0   0     2    2   0   1  6797.761892  \n",
       "1      3.6    NaN   1     2    2   1   3  4307.686943  \n",
       "2      1.8    NaN   2     3    2   0   1  4118.077502  \n",
       "3      2.0    1.0   3     3    2   1   0  7170.849469  \n",
       "4      1.2    1.0   0     2    2   1   0  5579.040145  "
      ]
     },
     "execution_count": 2,
     "metadata": {},
     "output_type": "execute_result"
    }
   ],
   "source": [
    "import pandas as pd\n",
    "\n",
    "data = pd.read_csv(os.path.join(root, \"data\", \"raw\", \"test_data_CANDIDATE.csv\"))\n",
    "data.head()"
   ]
  },
  {
   "cell_type": "markdown",
   "metadata": {},
   "source": [
    "The data in this column is irrelevant"
   ]
  },
  {
   "cell_type": "code",
   "execution_count": 3,
   "metadata": {},
   "outputs": [],
   "source": [
    "del data['cp']"
   ]
  },
  {
   "cell_type": "markdown",
   "metadata": {},
   "source": [
    "Cheacking if each column has num values"
   ]
  },
  {
   "cell_type": "code",
   "execution_count": 4,
   "metadata": {},
   "outputs": [
    {
     "data": {
      "text/plain": [
       "index       False\n",
       "age         False\n",
       "sex         False\n",
       "trestbps    False\n",
       "chol         True\n",
       "fbs         False\n",
       "restecg     False\n",
       "thalach     False\n",
       "exang       False\n",
       "oldpeak     False\n",
       "slope        True\n",
       "ca          False\n",
       "thal        False\n",
       "nar         False\n",
       "hc          False\n",
       "sk          False\n",
       "trf         False\n",
       "dtype: bool"
      ]
     },
     "execution_count": 4,
     "metadata": {},
     "output_type": "execute_result"
    }
   ],
   "source": [
    " data.isna().any()"
   ]
  },
  {
   "cell_type": "markdown",
   "metadata": {},
   "source": [
    "There is missing data on the chol and slope columns\n",
    "\n",
    "The chol could be replaced by the mean, but the slop will be needing a furder analisys."
   ]
  },
  {
   "cell_type": "markdown",
   "metadata": {},
   "source": [
    "Cheack amount of null for each gender and the mean of chol"
   ]
  },
  {
   "cell_type": "code",
   "execution_count": 5,
   "metadata": {},
   "outputs": [],
   "source": [
    "# Treating different names for male and female\n",
    "data.sex = data.sex.replace('f', 'F')\n",
    "data.sex = data.sex.replace('m', 'M')"
   ]
  },
  {
   "cell_type": "code",
   "execution_count": 6,
   "metadata": {},
   "outputs": [
    {
     "name": "stdout",
     "output_type": "stream",
     "text": [
      "Chol male mean(262), amount (1)\n",
      "Chol female mean(236), amount(15)\n"
     ]
    }
   ],
   "source": [
    "male = data.sex == 'M'\n",
    "male_mean = int(data[male].chol.mean())\n",
    "male_amount = data[male].chol.isna().sum()\n",
    "\n",
    "female = data.sex == 'F'\n",
    "female_mean = int(data[female].chol.mean())\n",
    "female_amount = data[female].chol.isna().sum()\n",
    "\n",
    "print(\"Chol male mean({}), amount ({})\".format(male_mean, male_amount))\n",
    "print(\"Chol female mean({}), amount({})\".format(female_mean, female_amount))\n"
   ]
  },
  {
   "cell_type": "markdown",
   "metadata": {},
   "source": [
    "This number could sujest that if the the value chol is nan its probably gonna be a female, but since I presume that is just a coinsidence I will not do something about. \n",
    "\n",
    "Since female is the biggest gend the missing data will be filled by the female mean."
   ]
  },
  {
   "cell_type": "code",
   "execution_count": 7,
   "metadata": {},
   "outputs": [],
   "source": [
    "data.chol = data.chol.fillna(female_mean)"
   ]
  },
  {
   "cell_type": "markdown",
   "metadata": {},
   "source": [
    "Check amount of each gender for base line model"
   ]
  },
  {
   "cell_type": "code",
   "execution_count": 8,
   "metadata": {},
   "outputs": [
    {
     "name": "stdout",
     "output_type": "stream",
     "text": [
      " Male: 92 \n",
      " Female: 196\n"
     ]
    }
   ],
   "source": [
    "print(\" Male: {} \\n Female: {}\".format(len(data[male]), len(data[female])))"
   ]
  },
  {
   "cell_type": "markdown",
   "metadata": {},
   "source": [
    "Any model with acc bellow ≃69% in this dataset is will poblaby not be good enough."
   ]
  },
  {
   "cell_type": "markdown",
   "metadata": {},
   "source": [
    "Looking for patterns or outlayers\n",
    "\n",
    "Age Density plot by gender"
   ]
  },
  {
   "cell_type": "code",
   "execution_count": 9,
   "metadata": {},
   "outputs": [
    {
     "data": {
      "text/plain": [
       "<matplotlib.axes._subplots.AxesSubplot at 0x7fccaafcce50>"
      ]
     },
     "execution_count": 9,
     "metadata": {},
     "output_type": "execute_result"
    }
   ],
   "source": [
    "data[female].age.plot.kde()"
   ]
  },
  {
   "cell_type": "code",
   "execution_count": 10,
   "metadata": {},
   "outputs": [
    {
     "data": {
      "text/plain": [
       "<matplotlib.axes._subplots.AxesSubplot at 0x7fcca8cb00d0>"
      ]
     },
     "execution_count": 10,
     "metadata": {},
     "output_type": "execute_result"
    },
    {
     "data": {
      "image/png": "[encoded data removed]",
      "text/plain": [
       "<Figure size 432x288 with 1 Axes>"
      ]
     },
     "metadata": {
      "needs_background": "light"
     },
     "output_type": "display_data"
    }
   ],
   "source": [
    "data[male].age.plot.kde()"
   ]
  },
  {
   "cell_type": "markdown",
   "metadata": {},
   "source": [
    "Setting dummy variables for sex"
   ]
  },
  {
   "cell_type": "code",
   "execution_count": 11,
   "metadata": {},
   "outputs": [
    {
     "name": "stdout",
     "output_type": "stream",
     "text": [
      "     F  M\n",
      "0    0  1\n",
      "1    1  0\n",
      "2    1  0\n",
      "3    1  0\n",
      "4    1  0\n",
      "..  .. ..\n",
      "283  1  0\n",
      "284  1  0\n",
      "285  0  1\n",
      "286  1  0\n",
      "287  1  0\n",
      "\n",
      "[288 rows x 2 columns]\n"
     ]
    }
   ],
   "source": [
    "print(pd.get_dummies(data.sex))\n",
    "data = pd.concat([data, pd.get_dummies(data.sex)], axis=1).drop(['sex'], axis=1)"
   ]
  },
  {
   "cell_type": "code",
   "execution_count": null,
   "metadata": {},
   "outputs": [],
   "source": []
  },
  {
   "cell_type": "code",
   "execution_count": null,
   "metadata": {},
   "outputs": [],
   "source": []
  }
 ],
 "metadata": {
  "kernelspec": {
   "display_name": "Python 3",
   "language": "python",
   "name": "python3"
  },
  "language_info": {
   "codemirror_mode": {
    "name": "ipython",
    "version": 3
   },
   "file_extension": ".py",
   "mimetype": "text/x-python",
   "name": "python",
   "nbconvert_exporter": "python",
   "pygments_lexer": "ipython3",
   "version": "3.7.4"
  }
 },
 "nbformat": 4,
 "nbformat_minor": 4
}
