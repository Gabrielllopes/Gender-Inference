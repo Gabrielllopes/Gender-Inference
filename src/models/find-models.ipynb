{
 "cells": [
  {
   "cell_type": "markdown",
   "metadata": {},
   "source": [
    "Getting rootpath of this project"
   ]
  },
  {
   "cell_type": "code",
   "execution_count": 1,
   "metadata": {},
   "outputs": [],
   "source": [
    "import os\n",
    "root = os.path.dirname(os.path.dirname(os.getcwd()))"
   ]
  },
  {
   "cell_type": "markdown",
   "metadata": {},
   "source": [
    "Loading fixed data"
   ]
  },
  {
   "cell_type": "code",
   "execution_count": 2,
   "metadata": {},
   "outputs": [
    {
     "data": {
      "text/html": [
       "<div>\n",
       "<style scoped>\n",
       "    .dataframe tbody tr th:only-of-type {\n",
       "        vertical-align: middle;\n",
       "    }\n",
       "\n",
       "    .dataframe tbody tr th {\n",
       "        vertical-align: top;\n",
       "    }\n",
       "\n",
       "    .dataframe thead th {\n",
       "        text-align: right;\n",
       "    }\n",
       "</style>\n",
       "<table border=\"1\" class=\"dataframe\">\n",
       "  <thead>\n",
       "    <tr style=\"text-align: right;\">\n",
       "      <th></th>\n",
       "      <th>index</th>\n",
       "      <th>age</th>\n",
       "      <th>sex</th>\n",
       "      <th>trestbps</th>\n",
       "      <th>chol</th>\n",
       "      <th>thalach</th>\n",
       "      <th>oldpeak</th>\n",
       "      <th>trf</th>\n",
       "      <th>fbs_0</th>\n",
       "      <th>fbs_1</th>\n",
       "      <th>...</th>\n",
       "      <th>hc_0</th>\n",
       "      <th>hc_1</th>\n",
       "      <th>hc_2</th>\n",
       "      <th>sk_0</th>\n",
       "      <th>sk_1</th>\n",
       "      <th>sk_2</th>\n",
       "      <th>sk_3</th>\n",
       "      <th>slope_0.0</th>\n",
       "      <th>slope_1.0</th>\n",
       "      <th>slope_2.0</th>\n",
       "    </tr>\n",
       "  </thead>\n",
       "  <tbody>\n",
       "    <tr>\n",
       "      <td>0</td>\n",
       "      <td>0</td>\n",
       "      <td>49</td>\n",
       "      <td>M</td>\n",
       "      <td>130</td>\n",
       "      <td>269.0</td>\n",
       "      <td>163</td>\n",
       "      <td>0.0</td>\n",
       "      <td>113</td>\n",
       "      <td>1</td>\n",
       "      <td>0</td>\n",
       "      <td>...</td>\n",
       "      <td>1</td>\n",
       "      <td>0</td>\n",
       "      <td>0</td>\n",
       "      <td>0</td>\n",
       "      <td>1</td>\n",
       "      <td>0</td>\n",
       "      <td>0</td>\n",
       "      <td>0</td>\n",
       "      <td>0</td>\n",
       "      <td>1</td>\n",
       "    </tr>\n",
       "    <tr>\n",
       "      <td>1</td>\n",
       "      <td>1</td>\n",
       "      <td>61</td>\n",
       "      <td>F</td>\n",
       "      <td>138</td>\n",
       "      <td>166.0</td>\n",
       "      <td>125</td>\n",
       "      <td>3.6</td>\n",
       "      <td>71</td>\n",
       "      <td>1</td>\n",
       "      <td>0</td>\n",
       "      <td>...</td>\n",
       "      <td>0</td>\n",
       "      <td>1</td>\n",
       "      <td>0</td>\n",
       "      <td>0</td>\n",
       "      <td>0</td>\n",
       "      <td>0</td>\n",
       "      <td>1</td>\n",
       "      <td>1</td>\n",
       "      <td>0</td>\n",
       "      <td>0</td>\n",
       "    </tr>\n",
       "    <tr>\n",
       "      <td>2</td>\n",
       "      <td>2</td>\n",
       "      <td>46</td>\n",
       "      <td>F</td>\n",
       "      <td>140</td>\n",
       "      <td>311.0</td>\n",
       "      <td>120</td>\n",
       "      <td>1.8</td>\n",
       "      <td>68</td>\n",
       "      <td>1</td>\n",
       "      <td>0</td>\n",
       "      <td>...</td>\n",
       "      <td>1</td>\n",
       "      <td>0</td>\n",
       "      <td>0</td>\n",
       "      <td>0</td>\n",
       "      <td>1</td>\n",
       "      <td>0</td>\n",
       "      <td>0</td>\n",
       "      <td>1</td>\n",
       "      <td>0</td>\n",
       "      <td>0</td>\n",
       "    </tr>\n",
       "    <tr>\n",
       "      <td>3</td>\n",
       "      <td>3</td>\n",
       "      <td>69</td>\n",
       "      <td>F</td>\n",
       "      <td>140</td>\n",
       "      <td>254.0</td>\n",
       "      <td>146</td>\n",
       "      <td>2.0</td>\n",
       "      <td>119</td>\n",
       "      <td>1</td>\n",
       "      <td>0</td>\n",
       "      <td>...</td>\n",
       "      <td>0</td>\n",
       "      <td>1</td>\n",
       "      <td>0</td>\n",
       "      <td>1</td>\n",
       "      <td>0</td>\n",
       "      <td>0</td>\n",
       "      <td>0</td>\n",
       "      <td>0</td>\n",
       "      <td>1</td>\n",
       "      <td>0</td>\n",
       "    </tr>\n",
       "    <tr>\n",
       "      <td>4</td>\n",
       "      <td>4</td>\n",
       "      <td>51</td>\n",
       "      <td>F</td>\n",
       "      <td>100</td>\n",
       "      <td>222.0</td>\n",
       "      <td>143</td>\n",
       "      <td>1.2</td>\n",
       "      <td>92</td>\n",
       "      <td>1</td>\n",
       "      <td>0</td>\n",
       "      <td>...</td>\n",
       "      <td>0</td>\n",
       "      <td>1</td>\n",
       "      <td>0</td>\n",
       "      <td>1</td>\n",
       "      <td>0</td>\n",
       "      <td>0</td>\n",
       "      <td>0</td>\n",
       "      <td>0</td>\n",
       "      <td>1</td>\n",
       "      <td>0</td>\n",
       "    </tr>\n",
       "  </tbody>\n",
       "</table>\n",
       "<p>5 rows × 33 columns</p>\n",
       "</div>"
      ],
      "text/plain": [
       "   index  age sex  trestbps   chol  thalach  oldpeak  trf  fbs_0  fbs_1  ...  \\\n",
       "0      0   49   M       130  269.0      163      0.0  113      1      0  ...   \n",
       "1      1   61   F       138  166.0      125      3.6   71      1      0  ...   \n",
       "2      2   46   F       140  311.0      120      1.8   68      1      0  ...   \n",
       "3      3   69   F       140  254.0      146      2.0  119      1      0  ...   \n",
       "4      4   51   F       100  222.0      143      1.2   92      1      0  ...   \n",
       "\n",
       "   hc_0  hc_1  hc_2  sk_0  sk_1  sk_2  sk_3  slope_0.0  slope_1.0  slope_2.0  \n",
       "0     1     0     0     0     1     0     0          0          0          1  \n",
       "1     0     1     0     0     0     0     1          1          0          0  \n",
       "2     1     0     0     0     1     0     0          1          0          0  \n",
       "3     0     1     0     1     0     0     0          0          1          0  \n",
       "4     0     1     0     1     0     0     0          0          1          0  \n",
       "\n",
       "[5 rows x 33 columns]"
      ]
     },
     "execution_count": 2,
     "metadata": {},
     "output_type": "execute_result"
    }
   ],
   "source": [
    "import pandas as pd\n",
    "\n",
    "data = pd.read_csv(os.path.join(root, \"data\", \"processed\", \"cleanData.csv\"))\n",
    "data.head()"
   ]
  },
  {
   "cell_type": "markdown",
   "metadata": {},
   "source": [
    "## split data into target (Y) and paramters (X)"
   ]
  },
  {
   "cell_type": "code",
   "execution_count": 3,
   "metadata": {},
   "outputs": [],
   "source": [
    "## as I said in the last notebook, I will not use age\n",
    "x, y = data.iloc[:,3:], data.iloc[:,2]"
   ]
  },
  {
   "cell_type": "code",
   "execution_count": 4,
   "metadata": {},
   "outputs": [
    {
     "data": {
      "text/html": [
       "<div>\n",
       "<style scoped>\n",
       "    .dataframe tbody tr th:only-of-type {\n",
       "        vertical-align: middle;\n",
       "    }\n",
       "\n",
       "    .dataframe tbody tr th {\n",
       "        vertical-align: top;\n",
       "    }\n",
       "\n",
       "    .dataframe thead th {\n",
       "        text-align: right;\n",
       "    }\n",
       "</style>\n",
       "<table border=\"1\" class=\"dataframe\">\n",
       "  <thead>\n",
       "    <tr style=\"text-align: right;\">\n",
       "      <th></th>\n",
       "      <th>trestbps</th>\n",
       "      <th>chol</th>\n",
       "      <th>thalach</th>\n",
       "      <th>oldpeak</th>\n",
       "      <th>trf</th>\n",
       "      <th>fbs_0</th>\n",
       "      <th>fbs_1</th>\n",
       "      <th>restecg_0</th>\n",
       "      <th>restecg_1</th>\n",
       "      <th>restecg_2</th>\n",
       "      <th>...</th>\n",
       "      <th>hc_0</th>\n",
       "      <th>hc_1</th>\n",
       "      <th>hc_2</th>\n",
       "      <th>sk_0</th>\n",
       "      <th>sk_1</th>\n",
       "      <th>sk_2</th>\n",
       "      <th>sk_3</th>\n",
       "      <th>slope_0.0</th>\n",
       "      <th>slope_1.0</th>\n",
       "      <th>slope_2.0</th>\n",
       "    </tr>\n",
       "  </thead>\n",
       "  <tbody>\n",
       "    <tr>\n",
       "      <td>0</td>\n",
       "      <td>130</td>\n",
       "      <td>269.0</td>\n",
       "      <td>163</td>\n",
       "      <td>0.0</td>\n",
       "      <td>113</td>\n",
       "      <td>1</td>\n",
       "      <td>0</td>\n",
       "      <td>0</td>\n",
       "      <td>1</td>\n",
       "      <td>0</td>\n",
       "      <td>...</td>\n",
       "      <td>1</td>\n",
       "      <td>0</td>\n",
       "      <td>0</td>\n",
       "      <td>0</td>\n",
       "      <td>1</td>\n",
       "      <td>0</td>\n",
       "      <td>0</td>\n",
       "      <td>0</td>\n",
       "      <td>0</td>\n",
       "      <td>1</td>\n",
       "    </tr>\n",
       "    <tr>\n",
       "      <td>1</td>\n",
       "      <td>138</td>\n",
       "      <td>166.0</td>\n",
       "      <td>125</td>\n",
       "      <td>3.6</td>\n",
       "      <td>71</td>\n",
       "      <td>1</td>\n",
       "      <td>0</td>\n",
       "      <td>1</td>\n",
       "      <td>0</td>\n",
       "      <td>0</td>\n",
       "      <td>...</td>\n",
       "      <td>0</td>\n",
       "      <td>1</td>\n",
       "      <td>0</td>\n",
       "      <td>0</td>\n",
       "      <td>0</td>\n",
       "      <td>0</td>\n",
       "      <td>1</td>\n",
       "      <td>1</td>\n",
       "      <td>0</td>\n",
       "      <td>0</td>\n",
       "    </tr>\n",
       "    <tr>\n",
       "      <td>2</td>\n",
       "      <td>140</td>\n",
       "      <td>311.0</td>\n",
       "      <td>120</td>\n",
       "      <td>1.8</td>\n",
       "      <td>68</td>\n",
       "      <td>1</td>\n",
       "      <td>0</td>\n",
       "      <td>0</td>\n",
       "      <td>1</td>\n",
       "      <td>0</td>\n",
       "      <td>...</td>\n",
       "      <td>1</td>\n",
       "      <td>0</td>\n",
       "      <td>0</td>\n",
       "      <td>0</td>\n",
       "      <td>1</td>\n",
       "      <td>0</td>\n",
       "      <td>0</td>\n",
       "      <td>1</td>\n",
       "      <td>0</td>\n",
       "      <td>0</td>\n",
       "    </tr>\n",
       "    <tr>\n",
       "      <td>3</td>\n",
       "      <td>140</td>\n",
       "      <td>254.0</td>\n",
       "      <td>146</td>\n",
       "      <td>2.0</td>\n",
       "      <td>119</td>\n",
       "      <td>1</td>\n",
       "      <td>0</td>\n",
       "      <td>1</td>\n",
       "      <td>0</td>\n",
       "      <td>0</td>\n",
       "      <td>...</td>\n",
       "      <td>0</td>\n",
       "      <td>1</td>\n",
       "      <td>0</td>\n",
       "      <td>1</td>\n",
       "      <td>0</td>\n",
       "      <td>0</td>\n",
       "      <td>0</td>\n",
       "      <td>0</td>\n",
       "      <td>1</td>\n",
       "      <td>0</td>\n",
       "    </tr>\n",
       "    <tr>\n",
       "      <td>4</td>\n",
       "      <td>100</td>\n",
       "      <td>222.0</td>\n",
       "      <td>143</td>\n",
       "      <td>1.2</td>\n",
       "      <td>92</td>\n",
       "      <td>1</td>\n",
       "      <td>0</td>\n",
       "      <td>0</td>\n",
       "      <td>1</td>\n",
       "      <td>0</td>\n",
       "      <td>...</td>\n",
       "      <td>0</td>\n",
       "      <td>1</td>\n",
       "      <td>0</td>\n",
       "      <td>1</td>\n",
       "      <td>0</td>\n",
       "      <td>0</td>\n",
       "      <td>0</td>\n",
       "      <td>0</td>\n",
       "      <td>1</td>\n",
       "      <td>0</td>\n",
       "    </tr>\n",
       "  </tbody>\n",
       "</table>\n",
       "<p>5 rows × 30 columns</p>\n",
       "</div>"
      ],
      "text/plain": [
       "   trestbps   chol  thalach  oldpeak  trf  fbs_0  fbs_1  restecg_0  restecg_1  \\\n",
       "0       130  269.0      163      0.0  113      1      0          0          1   \n",
       "1       138  166.0      125      3.6   71      1      0          1          0   \n",
       "2       140  311.0      120      1.8   68      1      0          0          1   \n",
       "3       140  254.0      146      2.0  119      1      0          1          0   \n",
       "4       100  222.0      143      1.2   92      1      0          0          1   \n",
       "\n",
       "   restecg_2  ...  hc_0  hc_1  hc_2  sk_0  sk_1  sk_2  sk_3  slope_0.0  \\\n",
       "0          0  ...     1     0     0     0     1     0     0          0   \n",
       "1          0  ...     0     1     0     0     0     0     1          1   \n",
       "2          0  ...     1     0     0     0     1     0     0          1   \n",
       "3          0  ...     0     1     0     1     0     0     0          0   \n",
       "4          0  ...     0     1     0     1     0     0     0          0   \n",
       "\n",
       "   slope_1.0  slope_2.0  \n",
       "0          0          1  \n",
       "1          0          0  \n",
       "2          0          0  \n",
       "3          1          0  \n",
       "4          1          0  \n",
       "\n",
       "[5 rows x 30 columns]"
      ]
     },
     "execution_count": 4,
     "metadata": {},
     "output_type": "execute_result"
    }
   ],
   "source": [
    "x.head()"
   ]
  },
  {
   "cell_type": "code",
   "execution_count": 5,
   "metadata": {},
   "outputs": [
    {
     "data": {
      "text/plain": [
       "0    M\n",
       "1    F\n",
       "2    F\n",
       "3    F\n",
       "4    F\n",
       "Name: sex, dtype: object"
      ]
     },
     "execution_count": 5,
     "metadata": {},
     "output_type": "execute_result"
    }
   ],
   "source": [
    "y.head()"
   ]
  },
  {
   "cell_type": "markdown",
   "metadata": {},
   "source": [
    "Since it's a small dataset, and I will not use deep learning, I gonna use sklern and xgboost to train some models."
   ]
  },
  {
   "cell_type": "code",
   "execution_count": 6,
   "metadata": {},
   "outputs": [
    {
     "name": "stdout",
     "output_type": "stream",
     "text": [
      " Logistic Regression \n",
      " Mean:0.7704014939309057 \n",
      " Min:0.6857142857142857 \n",
      " Max:0.8235294117647058\n"
     ]
    }
   ],
   "source": [
    "from sklearn.model_selection import cross_val_score\n",
    "from sklearn.linear_model import LogisticRegression\n",
    "\n",
    "logistic_model = LogisticRegression(\n",
    "    penalty='l2',\n",
    "    C=0.1,\n",
    "    solver = 'liblinear'\n",
    ")\n",
    "\n",
    "sc = cross_val_score(logistic_model, x, y, cv=8)\n",
    "\n",
    "print(\" Logistic Regression \\n Mean:{} \\n Min:{} \\n Max:{}\".format(sc.mean(), sc.min(), sc.max()))"
   ]
  },
  {
   "cell_type": "code",
   "execution_count": 7,
   "metadata": {},
   "outputs": [
    {
     "name": "stdout",
     "output_type": "stream",
     "text": [
      " XGB \n",
      " Mean:0.7850840336134454 \n",
      " Min:0.6944444444444444 \n",
      " Max:0.9142857142857143\n"
     ]
    }
   ],
   "source": [
    "from xgboost import XGBClassifier\n",
    "\n",
    "xgb_model = XGBClassifier(\n",
    "    max_depth=2,\n",
    "    gamma=3,\n",
    "    eta=0.8,\n",
    "    reg_alpha=0.5,\n",
    "    reg_lambda=0.5\n",
    ")\n",
    "\n",
    "sc = cross_val_score(xgb_model, x, y, cv=8)\n",
    "print(\" XGB \\n Mean:{} \\n Min:{} \\n Max:{}\".format(sc.mean(), sc.min(), sc.max()))"
   ]
  },
  {
   "cell_type": "code",
   "execution_count": 8,
   "metadata": {},
   "outputs": [
    {
     "name": "stdout",
     "output_type": "stream",
     "text": [
      " Random Forest \n",
      " Mean:0.7531395891690009 \n",
      " Min:0.6666666666666666 \n",
      " Max:0.8235294117647058\n"
     ]
    }
   ],
   "source": [
    "from sklearn.ensemble import RandomForestClassifier\n",
    "\n",
    "randomF_model = RandomForestClassifier(n_estimators = 50, max_depth=4)\n",
    "sc = cross_val_score(randomF_model, x, y, cv=8)\n",
    "print(\" Random Forest \\n Mean:{} \\n Min:{} \\n Max:{}\".format(sc.mean(), sc.min(), sc.max()))"
   ]
  },
  {
   "cell_type": "markdown",
   "metadata": {},
   "source": [
    "After we see that they all performe allmost the same, just a little beyond the basemodel (69%), I gonna try to ensemble the models and see if if the enseble permorms better."
   ]
  },
  {
   "cell_type": "code",
   "execution_count": 9,
   "metadata": {},
   "outputs": [
    {
     "name": "stdout",
     "output_type": "stream",
     "text": [
      " Ensemble \n",
      " Mean:0.7639589169000933 \n",
      " Min:0.6666666666666666 \n",
      " Max:0.8529411764705882\n"
     ]
    }
   ],
   "source": [
    "from sklearn.ensemble import VotingClassifier\n",
    " \n",
    "ens = VotingClassifier(estimators=[\n",
    "    ('logisticRegression', logistic_model),\n",
    "    ('XGB', xgb_model),\n",
    "    ('randomForest', randomF_model)], voting='soft')\n",
    "\n",
    "scor = cross_val_score(ens, x, y, cv=8)\n",
    "print(\" Ensemble \\n Mean:{} \\n Min:{} \\n Max:{}\".format(scor.mean(), scor.min(), scor.max()))"
   ]
  },
  {
   "cell_type": "markdown",
   "metadata": {},
   "source": [
    "I was hoping get better results than individual ones, it was not the case, so I will try to just use two"
   ]
  },
  {
   "cell_type": "code",
   "execution_count": 10,
   "metadata": {},
   "outputs": [
    {
     "name": "stdout",
     "output_type": "stream",
     "text": [
      " Ensemble ([('logisticRegression', LogisticRegression(C=0.1, class_weight=None, dual=False, fit_intercept=True,\n",
      "                   intercept_scaling=1, l1_ratio=None, max_iter=100,\n",
      "                   multi_class='warn', n_jobs=None, penalty='l2',\n",
      "                   random_state=None, solver='liblinear', tol=0.0001, verbose=0,\n",
      "                   warm_start=False)), ('randomForest', RandomForestClassifier(bootstrap=True, class_weight=None, criterion='gini',\n",
      "                       max_depth=4, max_features='auto', max_leaf_nodes=None,\n",
      "                       min_impurity_decrease=0.0, min_impurity_split=None,\n",
      "                       min_samples_leaf=1, min_samples_split=2,\n",
      "                       min_weight_fraction_leaf=0.0, n_estimators=50,\n",
      "                       n_jobs=None, oob_score=False, random_state=None,\n",
      "                       verbose=0, warm_start=False))]) \n",
      " Mean:0.7600898692810458 \n",
      " Min:0.6666666666666666 \n",
      " Max:0.8529411764705882\n",
      " Ensemble ([('logisticRegression', LogisticRegression(C=0.1, class_weight=None, dual=False, fit_intercept=True,\n",
      "                   intercept_scaling=1, l1_ratio=None, max_iter=100,\n",
      "                   multi_class='warn', n_jobs=None, penalty='l2',\n",
      "                   random_state=None, solver='liblinear', tol=0.0001, verbose=0,\n",
      "                   warm_start=False)), ('XGB', XGBClassifier(base_score=None, booster=None, colsample_bylevel=None,\n",
      "              colsample_bynode=None, colsample_bytree=None, eta=0.8, gamma=3,\n",
      "              gpu_id=None, importance_type='gain', interaction_constraints=None,\n",
      "              learning_rate=None, max_delta_step=None, max_depth=2,\n",
      "              min_child_weight=None, missing=nan, monotone_constraints=None,\n",
      "              n_estimators=100, n_jobs=None, num_parallel_tree=None,\n",
      "              objective='binary:logistic', random_state=None, reg_alpha=0.5,\n",
      "              reg_lambda=0.5, scale_pos_weight=None, subsample=None,\n",
      "              tree_method=None, validate_parameters=None, verbosity=None))]) \n",
      " Mean:0.7672327264239029 \n",
      " Min:0.6944444444444444 \n",
      " Max:0.8529411764705882\n",
      " Ensemble ([('XGB', XGBClassifier(base_score=None, booster=None, colsample_bylevel=None,\n",
      "              colsample_bynode=None, colsample_bytree=None, eta=0.8, gamma=3,\n",
      "              gpu_id=None, importance_type='gain', interaction_constraints=None,\n",
      "              learning_rate=None, max_delta_step=None, max_depth=2,\n",
      "              min_child_weight=None, missing=nan, monotone_constraints=None,\n",
      "              n_estimators=100, n_jobs=None, num_parallel_tree=None,\n",
      "              objective='binary:logistic', random_state=None, reg_alpha=0.5,\n",
      "              reg_lambda=0.5, scale_pos_weight=None, subsample=None,\n",
      "              tree_method=None, validate_parameters=None, verbosity=None)), ('randomForest', RandomForestClassifier(bootstrap=True, class_weight=None, criterion='gini',\n",
      "                       max_depth=4, max_features='auto', max_leaf_nodes=None,\n",
      "                       min_impurity_decrease=0.0, min_impurity_split=None,\n",
      "                       min_samples_leaf=1, min_samples_split=2,\n",
      "                       min_weight_fraction_leaf=0.0, n_estimators=50,\n",
      "                       n_jobs=None, oob_score=False, random_state=None,\n",
      "                       verbose=0, warm_start=False))]) \n",
      " Mean:0.7638538748832866 \n",
      " Min:0.6666666666666666 \n",
      " Max:0.8285714285714286\n"
     ]
    }
   ],
   "source": [
    "estimatores_test = [[('logisticRegression', logistic_model), ('randomForest', randomF_model)],\n",
    "                   [('logisticRegression', logistic_model), ('XGB', xgb_model)],\n",
    "                   [('XGB', xgb_model), ('randomForest', randomF_model)]]\n",
    "\n",
    "for estimat in estimatores_test:\n",
    "    ens = VotingClassifier(estimators=estimat, voting='soft')\n",
    "    scor = cross_val_score(ens, x, y, cv=8)\n",
    "    print(\" Ensemble ({}) \\n Mean:{} \\n Min:{} \\n Max:{}\".format(estimat, scor.mean(), scor.min(), scor.max()))\n"
   ]
  },
  {
   "cell_type": "markdown",
   "metadata": {},
   "source": [
    "## Conclusion\n",
    "Well, since I couldn't get an better result than an single model I will stick wit XGB.\n",
    "I could do an grid search for better hyperparamters, but I already tried most of the ones that I belive that would improve the model."
   ]
  },
  {
   "cell_type": "markdown",
   "metadata": {},
   "source": [
    "First I gonna train the model with all the paramters and after that I will save"
   ]
  },
  {
   "cell_type": "code",
   "execution_count": 11,
   "metadata": {},
   "outputs": [],
   "source": [
    "import pickle\n",
    "\n",
    "final_xgb = xgb_model.fit(x, y)\n",
    "\n",
    "# save model to file\n",
    "pickle.dump(final_xgb, open(os.path.join(root, \"models\", \"model.pickle.dat\"), \"wb\"))"
   ]
  },
  {
   "cell_type": "code",
   "execution_count": null,
   "metadata": {},
   "outputs": [],
   "source": []
  }
 ],
 "metadata": {
  "kernelspec": {
   "display_name": "Python 3",
   "language": "python",
   "name": "python3"
  },
  "language_info": {
   "codemirror_mode": {
    "name": "ipython",
    "version": 3
   },
   "file_extension": ".py",
   "mimetype": "text/x-python",
   "name": "python",
   "nbconvert_exporter": "python",
   "pygments_lexer": "ipython3",
   "version": "3.7.4"
  }
 },
 "nbformat": 4,
 "nbformat_minor": 4
}
